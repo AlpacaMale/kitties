{
 "cells": [
  {
   "cell_type": "code",
   "execution_count": 14,
   "metadata": {},
   "outputs": [],
   "source": [
    "import gridfs\n",
    "from pymongo import MongoClient\n",
    "\n",
    "client = MongoClient(\"mongodb://localhost:27017/\")\n",
    "db = client[\"image_db\"]\n",
    "fs = gridfs.GridFS(db)"
   ]
  },
  {
   "cell_type": "code",
   "execution_count": 15,
   "metadata": {},
   "outputs": [
    {
     "name": "stdout",
     "output_type": "stream",
     "text": [
      "File uploaded with ID: 67b026ffa33608e04eee548d\n"
     ]
    },
    {
     "data": {
      "text/plain": [
       "ObjectId('67b026ffa33608e04eee548d')"
      ]
     },
     "execution_count": 15,
     "metadata": {},
     "output_type": "execute_result"
    }
   ],
   "source": [
    "# 파일 업로드\n",
    "def upload_file(file_path):\n",
    "    with open(file_path, \"rb\") as f:\n",
    "        file_id = fs.put(f, filename=file_path.split(\"/\")[-1])\n",
    "    print(f\"File uploaded with ID: {file_id}\")\n",
    "    return file_id\n",
    "\n",
    "\n",
    "upload_file(\"image.jpg\")"
   ]
  },
  {
   "cell_type": "code",
   "execution_count": 16,
   "metadata": {},
   "outputs": [
    {
     "name": "stdout",
     "output_type": "stream",
     "text": [
      "ID: 67b026ffa33608e04eee548d, Filename: image.jpg\n"
     ]
    }
   ],
   "source": [
    "# 파일 조회\n",
    "def list_files():\n",
    "    files = fs.find()\n",
    "    for file in files:\n",
    "        print(f\"ID: {file._id}, Filename: {file.filename}\")\n",
    "\n",
    "\n",
    "list_files()"
   ]
  },
  {
   "cell_type": "code",
   "execution_count": 17,
   "metadata": {},
   "outputs": [
    {
     "name": "stdout",
     "output_type": "stream",
     "text": [
      "File image.jpg downloaded as downloaded_image.jpg\n"
     ]
    }
   ],
   "source": [
    "# 특정 파일 다운로드\n",
    "def download_file(file_name, save_as):\n",
    "    file_data = fs.find_one({\"filename\": file_name})\n",
    "    if file_data:\n",
    "        with open(save_as, \"wb\") as f:\n",
    "            f.write(file_data.read())\n",
    "        print(f\"File {file_name} downloaded as {save_as}\")\n",
    "    else:\n",
    "        print(\"File not found!\")\n",
    "\n",
    "\n",
    "download_file(\"image.jpg\", \"downloaded_image.jpg\")"
   ]
  },
  {
   "cell_type": "code",
   "execution_count": null,
   "metadata": {},
   "outputs": [
    {
     "name": "stdout",
     "output_type": "stream",
     "text": [
      "Old file image.jpg deleted.\n",
      "File updated successfully with new ID: 67b026ffa33608e04eee548f\n"
     ]
    },
    {
     "data": {
      "text/plain": [
       "ObjectId('67b026ffa33608e04eee548f')"
      ]
     },
     "execution_count": 18,
     "metadata": {},
     "output_type": "execute_result"
    }
   ],
   "source": [
    "# 파일 업데이트 (변경)\n",
    "def update_file(file_name, new_file_path):\n",
    "    file_data = fs.find_one({\"filename\": file_name})\n",
    "\n",
    "    if file_data:\n",
    "        fs.delete(file_data._id)\n",
    "        print(f\"Old file {file_name} deleted.\")\n",
    "\n",
    "    with open(new_file_path, \"rb\") as f:\n",
    "        new_file_id = fs.put(f, filename=file_name)\n",
    "\n",
    "    print(f\"File updated successfully with new ID: {new_file_id}\")\n",
    "    return new_file_id\n",
    "\n",
    "\n",
    "update_file(\"image.jpg\", \"new_image.jpg\")"
   ]
  },
  {
   "cell_type": "code",
   "execution_count": 21,
   "metadata": {},
   "outputs": [
    {
     "name": "stdout",
     "output_type": "stream",
     "text": [
      "File image.jpg deleted successfully!\n"
     ]
    }
   ],
   "source": [
    "# 파일 삭제\n",
    "def delete_file(file_name):\n",
    "    file_data = fs.find_one({\"filename\": file_name})\n",
    "    if file_data:\n",
    "        fs.delete(file_data._id)\n",
    "        print(f\"File {file_name} deleted successfully!\")\n",
    "    else:\n",
    "        print(\"File not found!\")\n",
    "\n",
    "\n",
    "delete_file(\"image.jpg\")"
   ]
  }
 ],
 "metadata": {
  "kernelspec": {
   "display_name": "env",
   "language": "python",
   "name": "python3"
  },
  "language_info": {
   "codemirror_mode": {
    "name": "ipython",
    "version": 3
   },
   "file_extension": ".py",
   "mimetype": "text/x-python",
   "name": "python",
   "nbconvert_exporter": "python",
   "pygments_lexer": "ipython3",
   "version": "3.12.7"
  }
 },
 "nbformat": 4,
 "nbformat_minor": 2
}
